{
 "cells": [
  {
   "cell_type": "code",
   "execution_count": null,
   "outputs": [],
   "source": [
    "import pandas as pd\n",
    "from parsing_multile_excels.calendat_utils import parse_time, parse_dates\n",
    "from ical_element import Subject\n",
    "from icalendar import Calendar"
   ],
   "metadata": {
    "collapsed": false,
    "pycharm": {
     "name": "#%%\n"
    }
   }
  },
  {
   "cell_type": "code",
   "execution_count": null,
   "outputs": [],
   "source": [
    "df=pd.read_excel('complete.xlsx', index_col=0)\n",
    "CURRENT_YEAR = 2022"
   ],
   "metadata": {
    "collapsed": false,
    "pycharm": {
     "name": "#%%\n"
    }
   }
  },
  {
   "cell_type": "code",
   "execution_count": null,
   "outputs": [],
   "source": [
    "# Парсим Даты\n",
    "df = df.groupby(['SubjectName', 'Place', 'Time', 'Teacher'])['Date'].agg(Dates = lambda x: x).reset_index()\n",
    "df['Dates'] = df['Dates'].apply(lambda x: parse_dates(x))\n",
    "df = df.explode('Dates')\n",
    "df[['DateStart', 'DateEnd', 'RepeatTime', 'RepeatType']] = pd.DataFrame(df.Dates.tolist(), index=df.index)\n",
    "df.head()"
   ],
   "metadata": {
    "collapsed": false,
    "pycharm": {
     "name": "#%%\n"
    }
   }
  },
  {
   "cell_type": "code",
   "execution_count": null,
   "outputs": [],
   "source": [
    "# Парсим время\n",
    "df[['TimeStart', 'TimeEnd']] = pd.DataFrame(df['Time'].apply(parse_time).tolist(), index=df.index)\n",
    "df = df.drop(['Dates', 'Time'], axis=1)"
   ],
   "metadata": {
    "collapsed": false,
    "pycharm": {
     "name": "#%%\n"
    }
   }
  },
  {
   "cell_type": "code",
   "execution_count": null,
   "outputs": [],
   "source": [
    "# Убираем все траектории (Ангийский и тд)\n",
    "# df = df[df['SubjectName'].str.match('((^(?!Траектория).*)(^(?!Русский язык).*))|(Траектория 3 .*)')]"
   ],
   "metadata": {
    "collapsed": false,
    "pycharm": {
     "name": "#%%\n"
    }
   }
  },
  {
   "cell_type": "code",
   "execution_count": null,
   "outputs": [],
   "source": [
    "# Создаем календарь\n",
    "cal = Calendar()\n",
    "cal.add('prodid', '-//Karpovich//Karpovich Alex//EN')"
   ],
   "metadata": {
    "collapsed": false,
    "pycharm": {
     "name": "#%%\n"
    }
   }
  },
  {
   "cell_type": "code",
   "execution_count": null,
   "outputs": [],
   "source": [
    "# Добавляем туда события\n",
    "for idx, item in df.iterrows():\n",
    "    s = Subject.from_series(item)\n",
    "    e = s.to_event()\n",
    "    cal.add_component(e)"
   ],
   "metadata": {
    "collapsed": false,
    "pycharm": {
     "name": "#%%\n"
    }
   }
  },
  {
   "cell_type": "code",
   "execution_count": null,
   "outputs": [],
   "source": [
    "# Сохраняем календарь. Ура\n",
    "with open('autumn_2022.ics', 'wb') as f:\n",
    "    data = cal.to_ical()\n",
    "    f.write(data)"
   ],
   "metadata": {
    "collapsed": false,
    "pycharm": {
     "name": "#%%\n"
    }
   }
  }
 ],
 "metadata": {
  "kernelspec": {
   "display_name": "Python 3",
   "language": "python",
   "name": "python3"
  },
  "language_info": {
   "codemirror_mode": {
    "name": "ipython",
    "version": 3
   },
   "file_extension": ".py",
   "mimetype": "text/x-python",
   "name": "python",
   "nbconvert_exporter": "python",
   "pygments_lexer": "ipython3",
   "version": "3.8.8"
  }
 },
 "nbformat": 4,
 "nbformat_minor": 1
}