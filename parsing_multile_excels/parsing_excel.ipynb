{
 "cells": [
  {
   "cell_type": "code",
   "execution_count": null,
   "outputs": [],
   "source": [
    "import pandas as pd"
   ],
   "metadata": {
    "collapsed": false,
    "pycharm": {
     "name": "#%%\n"
    }
   }
  },
  {
   "cell_type": "code",
   "execution_count": null,
   "outputs": [],
   "source": [
    "df=pd.read_excel('complete.xlsx', index_col=0)\n",
    "CURRENT_YEAR = 2022"
   ],
   "metadata": {
    "collapsed": false,
    "pycharm": {
     "name": "#%%\n"
    }
   }
  },
  {
   "cell_type": "code",
   "execution_count": null,
   "outputs": [],
   "source": [
    "df = df.groupby(['SubjectName', 'Place', 'Time', 'Teacher'])['Date'].agg(Dates = lambda x: x).reset_index()\n",
    "df['Dates'] = df['Dates'].apply(lambda x: parse_dates(x))\n",
    "df = df.explode('Dates')\n",
    "df[['DateStart', 'DateEnd', 'RepeatTime', 'RepeatType']] = pd.DataFrame(df.Dates.tolist(), index=df.index)\n",
    "df.head()"
   ],
   "metadata": {
    "collapsed": false,
    "pycharm": {
     "name": "#%%\n"
    }
   }
  },
  {
   "cell_type": "code",
   "execution_count": null,
   "outputs": [],
   "source": [
    "import datetime as dt\n",
    "\n",
    "\n",
    "def parse_dates(dates):\n",
    "    if type(dates) == pd.core.arrays.datetimes.DatetimeArray:\n",
    "        # dates = dates.reset_index(drop=True)\n",
    "        return find_pattern(dates)\n",
    "    else:\n",
    "        return [(dates, dates, 1, '')]\n",
    "\n",
    "\n",
    "def find_pattern(dates):\n",
    "    output_data = []\n",
    "    date_start = dates[0]\n",
    "    date_end = dates[0]\n",
    "    repeat_time = 1\n",
    "    repeat_type = 'weekly'\n",
    "    for date in dates[1:]:\n",
    "        if (date_end + dt.timedelta(days=7) == date and repeat_type == 'weekly') or (\n",
    "                date_end + dt.timedelta(days=14) == date and repeat_type == 'biweekly'):\n",
    "            date_end = date\n",
    "            repeat_time += 1\n",
    "        else:\n",
    "            if date_end + dt.timedelta(days=7) == date:\n",
    "                if repeat_time == 1:\n",
    "                    repeat_time += 1\n",
    "                    date_end = date\n",
    "                    repeat_type = 'weekly'\n",
    "                    continue\n",
    "                output_data.append((date_start, date_end, repeat_time, repeat_type))\n",
    "                date_start, date_end, repeat_time, repeat_type = date, date, 1, 'weekly'\n",
    "                continue\n",
    "            if date_end + dt.timedelta(days=14) == date:\n",
    "                if repeat_time == 1:\n",
    "                    repeat_time += 1\n",
    "                    date_end = date\n",
    "                    repeat_type = 'biweekly'\n",
    "                    continue\n",
    "                output_data.append((date_start, date_end, repeat_time, repeat_type))\n",
    "                date_start, date_end, repeat_time, repeat_type = date, date, 1, 'biweekly'\n",
    "                continue\n",
    "            if date_end == date:\n",
    "                continue\n",
    "            output_data.append((date_start, date_end, repeat_time, repeat_type))\n",
    "            date_start, date_end, repeat_time = date, date, 1\n",
    "    output_data.append((date_start, date_end, repeat_time, repeat_type))\n",
    "    return output_data\n",
    "\n",
    "\n",
    "def parse_time(time_str):\n",
    "    def get_datetime_format(time_str: str):\n",
    "        return pd.to_datetime(time_str, format='%H:%M').time()\n",
    "\n",
    "    return list(map(get_datetime_format, time_str.split('–')))"
   ],
   "metadata": {
    "collapsed": false,
    "pycharm": {
     "name": "#%%\n"
    }
   }
  },
  {
   "cell_type": "code",
   "execution_count": null,
   "outputs": [],
   "source": [
    "df[['TimeStart', 'TimeEnd']] = pd.DataFrame(df['Time'].apply(parse_time).tolist(), index=df.index)\n",
    "df = df.drop(['Dates', 'Time'], axis=1)"
   ],
   "metadata": {
    "collapsed": false,
    "pycharm": {
     "name": "#%%\n"
    }
   }
  },
  {
   "cell_type": "code",
   "execution_count": null,
   "outputs": [],
   "source": [
    "df = df[df['SubjectName'].str.match('((^(?!Траектория).*)(^(?!Русский язык).*))|(Траектория 3 .*)')]"
   ],
   "metadata": {
    "collapsed": false,
    "pycharm": {
     "name": "#%%\n"
    }
   }
  },
  {
   "cell_type": "code",
   "execution_count": null,
   "outputs": [],
   "source": [
    "df"
   ],
   "metadata": {
    "collapsed": false,
    "pycharm": {
     "name": "#%%\n"
    }
   }
  },
  {
   "cell_type": "code",
   "execution_count": null,
   "outputs": [],
   "source": [
    "df.to_csv('spring.csv')"
   ],
   "metadata": {
    "collapsed": false,
    "pycharm": {
     "name": "#%%\n"
    }
   }
  },
  {
   "cell_type": "code",
   "execution_count": null,
   "outputs": [],
   "source": [
    "from icalendar import Calendar, Event\n",
    "import pytz"
   ],
   "metadata": {
    "collapsed": false,
    "pycharm": {
     "name": "#%%\n"
    }
   }
  },
  {
   "cell_type": "code",
   "execution_count": null,
   "outputs": [],
   "source": [
    "# Убран функционал подгрупп!!\n",
    "class Subject:\n",
    "    params = ['TimeStart', 'TimeEnd', 'DateStart', 'DateEnd', 'SubjectName', 'Place', 'Teacher', 'RepeatTime',\n",
    "              'RepeatType']  #, 'SubGroup'\n",
    "    tz = pytz.timezone('Europe/Moscow')\n",
    "\n",
    "    def __init__(self, TimeStart, TimeEnd, DateStart, DateEnd, SubjectName, Place, Teacher, RepeatTime=1, RepeatType='',\n",
    "                 SubGroup=None):\n",
    "        self.time_start = TimeStart\n",
    "        self.time_end = TimeEnd\n",
    "        self.date_start = DateStart\n",
    "        self.date_end = DateEnd\n",
    "        self.subject_name = SubjectName if not SubGroup else SubjectName + '#' + f'{SubGroup}'\n",
    "        self.place = Place\n",
    "        self.teacher = Teacher\n",
    "        self.repeat_time = RepeatTime\n",
    "        self.repeat_type = RepeatType\n",
    "        self.sub_group = SubGroup\n",
    "\n",
    "    @property\n",
    "    def date_time_start_event(self):\n",
    "        return self.get_date_time(self.date_start, self.time_start)\n",
    "\n",
    "    @property\n",
    "    def date_time_end_event(self):\n",
    "        return self.get_date_time(self.date_start, self.time_end)\n",
    "\n",
    "    @classmethod\n",
    "    def get_date_time(cls, date, time):\n",
    "        return dt.datetime.combine(date, time, cls.tz)\n",
    "\n",
    "    @classmethod\n",
    "    def from_series(cls, series: pd.Series):\n",
    "        subject_params = [series[param] for param in cls.params]\n",
    "        return cls(*subject_params)\n",
    "\n",
    "    def __repr__(self):\n",
    "        return f\"<Subject time start: {self.time_start} date start: {self.date_start} with {self.repeat_time} repeat>\"\n",
    "\n",
    "    def to_event(self) -> Event:\n",
    "        e = Event()\n",
    "        e.add('DTSTART', self.date_time_start_event)\n",
    "        e.add('DTEND', self.date_time_end_event)\n",
    "        e.add('SUMMARY', self.subject_name)\n",
    "        e.add('DESCRIPTION', f\"Преподователь: {self.teacher}\")\n",
    "        e.add('LOCATION', self.place)\n",
    "        e.add('LAST-MODIFIED', dt.datetime.now(self.tz))\n",
    "        if self.repeat_type:\n",
    "            e.add('RRULE',\n",
    "                  {'freq': 'weekly', 'count': self.repeat_time, 'interval': 1 if self.repeat_type == 'weekly' else 2})\n",
    "        return e"
   ],
   "metadata": {
    "collapsed": false,
    "pycharm": {
     "name": "#%%\n"
    }
   }
  },
  {
   "cell_type": "code",
   "execution_count": null,
   "outputs": [],
   "source": [
    "cal = Calendar()\n",
    "cal.add('prodid', '-//Karpovich//Karpovich Alex//EN')"
   ],
   "metadata": {
    "collapsed": false,
    "pycharm": {
     "name": "#%%\n"
    }
   }
  },
  {
   "cell_type": "code",
   "execution_count": null,
   "outputs": [],
   "source": [
    "for idx, item in df.iterrows():\n",
    "    s = Subject.from_series(item)\n",
    "    e = s.to_event()\n",
    "    cal.add_component(e)"
   ],
   "metadata": {
    "collapsed": false,
    "pycharm": {
     "name": "#%%\n"
    }
   }
  },
  {
   "cell_type": "code",
   "execution_count": null,
   "outputs": [],
   "source": [
    "with open('example_spring.ics', 'wb') as f:\n",
    "    data = cal.to_ical()\n",
    "    f.write(data)"
   ],
   "metadata": {
    "collapsed": false,
    "pycharm": {
     "name": "#%%\n"
    }
   }
  }
 ],
 "metadata": {
  "kernelspec": {
   "display_name": "Python 3",
   "language": "python",
   "name": "python3"
  },
  "language_info": {
   "codemirror_mode": {
    "name": "ipython",
    "version": 3
   },
   "file_extension": ".py",
   "mimetype": "text/x-python",
   "name": "python",
   "nbconvert_exporter": "python",
   "pygments_lexer": "ipython3",
   "version": "3.8.8"
  }
 },
 "nbformat": 4,
 "nbformat_minor": 1
}