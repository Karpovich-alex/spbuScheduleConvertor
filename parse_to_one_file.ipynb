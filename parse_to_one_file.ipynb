{
 "cells": [
  {
   "cell_type": "code",
   "execution_count": 3,
   "outputs": [],
   "source": [
    "import pandas as pd\n",
    "import dateparser"
   ],
   "metadata": {
    "collapsed": false,
    "pycharm": {
     "name": "#%%\n"
    }
   }
  },
  {
   "cell_type": "code",
   "execution_count": 4,
   "outputs": [],
   "source": [
    "df=pd.read_excel('excels/2022-02-21.xlsx')\n",
    "CURRENT_YEAR = 2022"
   ],
   "metadata": {
    "collapsed": false,
    "pycharm": {
     "name": "#%%\n"
    }
   }
  },
  {
   "cell_type": "code",
   "execution_count": 5,
   "outputs": [],
   "source": [
    "def parse_date(date_string):\n",
    "    _, date_string = date_string.split(\"\\n\")\n",
    "    return dateparser.parse(f\"{date_string} {CURRENT_YEAR}\")"
   ],
   "metadata": {
    "collapsed": false,
    "pycharm": {
     "name": "#%%\n"
    }
   }
  },
  {
   "cell_type": "code",
   "execution_count": 6,
   "outputs": [
    {
     "name": "stderr",
     "output_type": "stream",
     "text": [
      "c:\\users\\karpo\\pycharmprojects\\spbuonlineschedule\\venv\\lib\\site-packages\\dateparser\\date_parser.py:35: PytzUsageWarning: The localize method is no longer necessary, as this time zone supports the fold attribute (PEP 495). For more details on migrating to a PEP 495-compliant implementation, see https://pytz-deprecation-shim.readthedocs.io/en/latest/migration.html\n",
      "  date_obj = stz.localize(date_obj)\n"
     ]
    }
   ],
   "source": [
    "# Заполняем пропущенные места предыдущими значениями\n",
    "df.fillna(method='ffill', inplace=True)\n",
    "# Назначаем новые заголовки\n",
    "column_name = ['Date', 'Time', 'SubjectName', 'Place', 'Teacher']\n",
    "df = df.set_axis((column_name), axis=1, inplace=False)\n",
    "# Удаляем ненужные строки и переназначаем индексы\n",
    "df = df.drop([0,1,2], axis=0)\n",
    "df = df.reset_index(drop=True)\n",
    "# Преобразуем дату из текста в формат datetime\n",
    "df['Date'] = df['Date'].apply(parse_date)"
   ],
   "metadata": {
    "collapsed": false,
    "pycharm": {
     "name": "#%%\n"
    }
   }
  },
  {
   "cell_type": "code",
   "execution_count": 7,
   "outputs": [],
   "source": [
    "def prepare_excel(df):\n",
    "    df.fillna(method='ffill', inplace=True)\n",
    "    df = df.set_axis((column_name), axis=1, inplace=False)\n",
    "    df = df.drop([0, 1, 2], axis=0)\n",
    "    df = df.reset_index(drop=True)\n",
    "    df['Date'] = df['Date'].apply(parse_date)\n",
    "    return df"
   ],
   "metadata": {
    "collapsed": false,
    "pycharm": {
     "name": "#%%\n"
    }
   }
  },
  {
   "cell_type": "code",
   "execution_count": 8,
   "outputs": [
    {
     "name": "stderr",
     "output_type": "stream",
     "text": [
      "c:\\users\\karpo\\pycharmprojects\\spbuonlineschedule\\venv\\lib\\site-packages\\dateparser\\date_parser.py:35: PytzUsageWarning: The localize method is no longer necessary, as this time zone supports the fold attribute (PEP 495). For more details on migrating to a PEP 495-compliant implementation, see https://pytz-deprecation-shim.readthedocs.io/en/latest/migration.html\n",
      "  date_obj = stz.localize(date_obj)\n",
      "c:\\users\\karpo\\pycharmprojects\\spbuonlineschedule\\venv\\lib\\site-packages\\dateparser\\date_parser.py:35: PytzUsageWarning: The localize method is no longer necessary, as this time zone supports the fold attribute (PEP 495). For more details on migrating to a PEP 495-compliant implementation, see https://pytz-deprecation-shim.readthedocs.io/en/latest/migration.html\n",
      "  date_obj = stz.localize(date_obj)\n",
      "c:\\users\\karpo\\pycharmprojects\\spbuonlineschedule\\venv\\lib\\site-packages\\dateparser\\date_parser.py:35: PytzUsageWarning: The localize method is no longer necessary, as this time zone supports the fold attribute (PEP 495). For more details on migrating to a PEP 495-compliant implementation, see https://pytz-deprecation-shim.readthedocs.io/en/latest/migration.html\n",
      "  date_obj = stz.localize(date_obj)\n",
      "c:\\users\\karpo\\pycharmprojects\\spbuonlineschedule\\venv\\lib\\site-packages\\dateparser\\date_parser.py:35: PytzUsageWarning: The localize method is no longer necessary, as this time zone supports the fold attribute (PEP 495). For more details on migrating to a PEP 495-compliant implementation, see https://pytz-deprecation-shim.readthedocs.io/en/latest/migration.html\n",
      "  date_obj = stz.localize(date_obj)\n",
      "c:\\users\\karpo\\pycharmprojects\\spbuonlineschedule\\venv\\lib\\site-packages\\dateparser\\date_parser.py:35: PytzUsageWarning: The localize method is no longer necessary, as this time zone supports the fold attribute (PEP 495). For more details on migrating to a PEP 495-compliant implementation, see https://pytz-deprecation-shim.readthedocs.io/en/latest/migration.html\n",
      "  date_obj = stz.localize(date_obj)\n",
      "c:\\users\\karpo\\pycharmprojects\\spbuonlineschedule\\venv\\lib\\site-packages\\dateparser\\date_parser.py:35: PytzUsageWarning: The localize method is no longer necessary, as this time zone supports the fold attribute (PEP 495). For more details on migrating to a PEP 495-compliant implementation, see https://pytz-deprecation-shim.readthedocs.io/en/latest/migration.html\n",
      "  date_obj = stz.localize(date_obj)\n",
      "c:\\users\\karpo\\pycharmprojects\\spbuonlineschedule\\venv\\lib\\site-packages\\dateparser\\date_parser.py:35: PytzUsageWarning: The localize method is no longer necessary, as this time zone supports the fold attribute (PEP 495). For more details on migrating to a PEP 495-compliant implementation, see https://pytz-deprecation-shim.readthedocs.io/en/latest/migration.html\n",
      "  date_obj = stz.localize(date_obj)\n",
      "c:\\users\\karpo\\pycharmprojects\\spbuonlineschedule\\venv\\lib\\site-packages\\dateparser\\date_parser.py:35: PytzUsageWarning: The localize method is no longer necessary, as this time zone supports the fold attribute (PEP 495). For more details on migrating to a PEP 495-compliant implementation, see https://pytz-deprecation-shim.readthedocs.io/en/latest/migration.html\n",
      "  date_obj = stz.localize(date_obj)\n",
      "c:\\users\\karpo\\pycharmprojects\\spbuonlineschedule\\venv\\lib\\site-packages\\dateparser\\date_parser.py:35: PytzUsageWarning: The localize method is no longer necessary, as this time zone supports the fold attribute (PEP 495). For more details on migrating to a PEP 495-compliant implementation, see https://pytz-deprecation-shim.readthedocs.io/en/latest/migration.html\n",
      "  date_obj = stz.localize(date_obj)\n",
      "c:\\users\\karpo\\pycharmprojects\\spbuonlineschedule\\venv\\lib\\site-packages\\dateparser\\date_parser.py:35: PytzUsageWarning: The localize method is no longer necessary, as this time zone supports the fold attribute (PEP 495). For more details on migrating to a PEP 495-compliant implementation, see https://pytz-deprecation-shim.readthedocs.io/en/latest/migration.html\n",
      "  date_obj = stz.localize(date_obj)\n",
      "c:\\users\\karpo\\pycharmprojects\\spbuonlineschedule\\venv\\lib\\site-packages\\dateparser\\date_parser.py:35: PytzUsageWarning: The localize method is no longer necessary, as this time zone supports the fold attribute (PEP 495). For more details on migrating to a PEP 495-compliant implementation, see https://pytz-deprecation-shim.readthedocs.io/en/latest/migration.html\n",
      "  date_obj = stz.localize(date_obj)\n",
      "c:\\users\\karpo\\pycharmprojects\\spbuonlineschedule\\venv\\lib\\site-packages\\dateparser\\date_parser.py:35: PytzUsageWarning: The localize method is no longer necessary, as this time zone supports the fold attribute (PEP 495). For more details on migrating to a PEP 495-compliant implementation, see https://pytz-deprecation-shim.readthedocs.io/en/latest/migration.html\n",
      "  date_obj = stz.localize(date_obj)\n",
      "c:\\users\\karpo\\pycharmprojects\\spbuonlineschedule\\venv\\lib\\site-packages\\dateparser\\date_parser.py:35: PytzUsageWarning: The localize method is no longer necessary, as this time zone supports the fold attribute (PEP 495). For more details on migrating to a PEP 495-compliant implementation, see https://pytz-deprecation-shim.readthedocs.io/en/latest/migration.html\n",
      "  date_obj = stz.localize(date_obj)\n",
      "c:\\users\\karpo\\pycharmprojects\\spbuonlineschedule\\venv\\lib\\site-packages\\dateparser\\date_parser.py:35: PytzUsageWarning: The localize method is no longer necessary, as this time zone supports the fold attribute (PEP 495). For more details on migrating to a PEP 495-compliant implementation, see https://pytz-deprecation-shim.readthedocs.io/en/latest/migration.html\n",
      "  date_obj = stz.localize(date_obj)\n",
      "c:\\users\\karpo\\pycharmprojects\\spbuonlineschedule\\venv\\lib\\site-packages\\dateparser\\date_parser.py:35: PytzUsageWarning: The localize method is no longer necessary, as this time zone supports the fold attribute (PEP 495). For more details on migrating to a PEP 495-compliant implementation, see https://pytz-deprecation-shim.readthedocs.io/en/latest/migration.html\n",
      "  date_obj = stz.localize(date_obj)\n",
      "c:\\users\\karpo\\pycharmprojects\\spbuonlineschedule\\venv\\lib\\site-packages\\dateparser\\date_parser.py:35: PytzUsageWarning: The localize method is no longer necessary, as this time zone supports the fold attribute (PEP 495). For more details on migrating to a PEP 495-compliant implementation, see https://pytz-deprecation-shim.readthedocs.io/en/latest/migration.html\n",
      "  date_obj = stz.localize(date_obj)\n",
      "c:\\users\\karpo\\pycharmprojects\\spbuonlineschedule\\venv\\lib\\site-packages\\dateparser\\date_parser.py:35: PytzUsageWarning: The localize method is no longer necessary, as this time zone supports the fold attribute (PEP 495). For more details on migrating to a PEP 495-compliant implementation, see https://pytz-deprecation-shim.readthedocs.io/en/latest/migration.html\n",
      "  date_obj = stz.localize(date_obj)\n"
     ]
    }
   ],
   "source": [
    "import os\n",
    "complete_df = None\n",
    "excels_path = \"./excels\"\n",
    "for root, dirs, files in os.walk(excels_path):\n",
    "    for excel in files:\n",
    "        new_excel = pd.read_excel(excels_path+ \"/\"+excel)\n",
    "        new_excel = prepare_excel(new_excel)\n",
    "        if type(complete_df)==type(None):\n",
    "            complete_df = new_excel\n",
    "        else:\n",
    "            complete_df = pd.concat([complete_df, new_excel])"
   ],
   "metadata": {
    "collapsed": false,
    "pycharm": {
     "name": "#%%\n"
    }
   }
  },
  {
   "cell_type": "code",
   "execution_count": 9,
   "outputs": [],
   "source": [
    "# complete_df.to_excel(\"complete.xlsx\")"
   ],
   "metadata": {
    "collapsed": false,
    "pycharm": {
     "name": "#%%\n"
    }
   }
  },
  {
   "cell_type": "code",
   "execution_count": 10,
   "outputs": [
    {
     "data": {
      "text/plain": "                   Date         Time  \\\n0   2022-02-12 00:00:00  09:00–10:30   \n1   2022-02-12 00:00:00  10:45–12:15   \n0   2022-02-14 00:00:00  09:00–10:30   \n1   2022-02-14 00:00:00  09:00–10:30   \n2   2022-02-14 00:00:00  10:45–12:15   \n..                  ...          ...   \n5   2022-05-30 00:00:00  15:00–16:30   \n6   2022-05-30 00:00:00  15:00–16:30   \n7   2022-05-30 00:00:00  15:00–16:30   \n8   2022-05-30 00:00:00  15:00–16:30   \n9   2022-05-30 00:00:00  16:45–18:15   \n\n                                          SubjectName  \\\n0   Общая и социально-экономическая статистика, ле...   \n1   Общая и социально-экономическая статистика, ле...   \n0         Электив. Разработка JAVA-приложений, лекция   \n1              Электив. Финансовые технологии, лекция   \n2         Электив. Разработка JAVA-приложений, лекция   \n..                                                ...   \n5   Траектория 2 (А2 – В2). Английский язык, практ...   \n6   Траектория 2 (А2 – В2). Английский язык, практ...   \n7   Траектория 2 (А2 – В2). Английский язык, практ...   \n8   Траектория 2 (А2 – В2). Английский язык, практ...   \n9   Русский язык как иностранный, практическое зан...   \n\n                                                Place         Teacher  \n0   С использованием информационно-коммуникационны...      Зуга Е. И.  \n1   С использованием информационно-коммуникационны...      Зуга Е. И.  \n0   С использованием информационно-коммуникационны...  Стоянова О. В.  \n1   С использованием информационно-коммуникационны...    Канаев А. В.  \n2   С использованием информационно-коммуникационны...  Стоянова О. В.  \n..                                                ...             ...  \n5   С использованием информационно-коммуникационны...  Быстрова Е. В.  \n6   С использованием информационно-коммуникационны...  Домшенко Н. Г.  \n7   С использованием информационно-коммуникационны...  Солнцева Е. С.  \n8   С использованием информационно-коммуникационны...  Залуцкая Н. О.  \n9   С использованием информационно-коммуникационны...   Пашкова М. Н.  \n\n[522 rows x 5 columns]",
      "text/html": "<div>\n<style scoped>\n    .dataframe tbody tr th:only-of-type {\n        vertical-align: middle;\n    }\n\n    .dataframe tbody tr th {\n        vertical-align: top;\n    }\n\n    .dataframe thead th {\n        text-align: right;\n    }\n</style>\n<table border=\"1\" class=\"dataframe\">\n  <thead>\n    <tr style=\"text-align: right;\">\n      <th></th>\n      <th>Date</th>\n      <th>Time</th>\n      <th>SubjectName</th>\n      <th>Place</th>\n      <th>Teacher</th>\n    </tr>\n  </thead>\n  <tbody>\n    <tr>\n      <th>0</th>\n      <td>2022-02-12 00:00:00</td>\n      <td>09:00–10:30</td>\n      <td>Общая и социально-экономическая статистика, ле...</td>\n      <td>С использованием информационно-коммуникационны...</td>\n      <td>Зуга Е. И.</td>\n    </tr>\n    <tr>\n      <th>1</th>\n      <td>2022-02-12 00:00:00</td>\n      <td>10:45–12:15</td>\n      <td>Общая и социально-экономическая статистика, ле...</td>\n      <td>С использованием информационно-коммуникационны...</td>\n      <td>Зуга Е. И.</td>\n    </tr>\n    <tr>\n      <th>0</th>\n      <td>2022-02-14 00:00:00</td>\n      <td>09:00–10:30</td>\n      <td>Электив. Разработка JAVA-приложений, лекция</td>\n      <td>С использованием информационно-коммуникационны...</td>\n      <td>Стоянова О. В.</td>\n    </tr>\n    <tr>\n      <th>1</th>\n      <td>2022-02-14 00:00:00</td>\n      <td>09:00–10:30</td>\n      <td>Электив. Финансовые технологии, лекция</td>\n      <td>С использованием информационно-коммуникационны...</td>\n      <td>Канаев А. В.</td>\n    </tr>\n    <tr>\n      <th>2</th>\n      <td>2022-02-14 00:00:00</td>\n      <td>10:45–12:15</td>\n      <td>Электив. Разработка JAVA-приложений, лекция</td>\n      <td>С использованием информационно-коммуникационны...</td>\n      <td>Стоянова О. В.</td>\n    </tr>\n    <tr>\n      <th>...</th>\n      <td>...</td>\n      <td>...</td>\n      <td>...</td>\n      <td>...</td>\n      <td>...</td>\n    </tr>\n    <tr>\n      <th>5</th>\n      <td>2022-05-30 00:00:00</td>\n      <td>15:00–16:30</td>\n      <td>Траектория 2 (А2 – В2). Английский язык, практ...</td>\n      <td>С использованием информационно-коммуникационны...</td>\n      <td>Быстрова Е. В.</td>\n    </tr>\n    <tr>\n      <th>6</th>\n      <td>2022-05-30 00:00:00</td>\n      <td>15:00–16:30</td>\n      <td>Траектория 2 (А2 – В2). Английский язык, практ...</td>\n      <td>С использованием информационно-коммуникационны...</td>\n      <td>Домшенко Н. Г.</td>\n    </tr>\n    <tr>\n      <th>7</th>\n      <td>2022-05-30 00:00:00</td>\n      <td>15:00–16:30</td>\n      <td>Траектория 2 (А2 – В2). Английский язык, практ...</td>\n      <td>С использованием информационно-коммуникационны...</td>\n      <td>Солнцева Е. С.</td>\n    </tr>\n    <tr>\n      <th>8</th>\n      <td>2022-05-30 00:00:00</td>\n      <td>15:00–16:30</td>\n      <td>Траектория 2 (А2 – В2). Английский язык, практ...</td>\n      <td>С использованием информационно-коммуникационны...</td>\n      <td>Залуцкая Н. О.</td>\n    </tr>\n    <tr>\n      <th>9</th>\n      <td>2022-05-30 00:00:00</td>\n      <td>16:45–18:15</td>\n      <td>Русский язык как иностранный, практическое зан...</td>\n      <td>С использованием информационно-коммуникационны...</td>\n      <td>Пашкова М. Н.</td>\n    </tr>\n  </tbody>\n</table>\n<p>522 rows × 5 columns</p>\n</div>"
     },
     "execution_count": 10,
     "metadata": {},
     "output_type": "execute_result"
    }
   ],
   "source": [
    "complete_df"
   ],
   "metadata": {
    "collapsed": false,
    "pycharm": {
     "name": "#%%\n"
    }
   }
  }
 ],
 "metadata": {
  "kernelspec": {
   "display_name": "Python 3",
   "language": "python",
   "name": "python3"
  },
  "language_info": {
   "codemirror_mode": {
    "name": "ipython",
    "version": 2
   },
   "file_extension": ".py",
   "mimetype": "text/x-python",
   "name": "python",
   "nbconvert_exporter": "python",
   "pygments_lexer": "ipython2",
   "version": "2.7.6"
  }
 },
 "nbformat": 4,
 "nbformat_minor": 0
}