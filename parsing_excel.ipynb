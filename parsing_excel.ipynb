{
 "cells": [
  {
   "cell_type": "code",
   "execution_count": null,
   "outputs": [],
   "source": [
    "import pandas as pd\n",
    "from icalendar import Calendar, Event\n",
    "from calendar_utils import parse_date, parse_time,find_sub_group\n",
    "from ical_element import Subject"
   ],
   "metadata": {
    "collapsed": false,
    "pycharm": {
     "name": "#%%\n"
    }
   }
  },
  {
   "cell_type": "code",
   "execution_count": null,
   "outputs": [],
   "source": [
    "excel_schedule=pd.read_excel('autumn.xlsx', index_col=0)\n",
    "CURRENT_YEAR = 2022"
   ],
   "metadata": {
    "collapsed": false,
    "pycharm": {
     "name": "#%%\n"
    }
   }
  },
  {
   "cell_type": "code",
   "execution_count": null,
   "outputs": [],
   "source": [
    "df = excel_schedule.copy()\n",
    "df = df.reset_index(drop=True).drop([0,1,2], axis=0)\n",
    "df.columns = ['Time', 'Date', 'SubjectName', 'Place', 'Teacher']"
   ],
   "metadata": {
    "collapsed": false,
    "pycharm": {
     "name": "#%%\n"
    }
   }
  },
  {
   "cell_type": "code",
   "execution_count": null,
   "outputs": [],
   "source": [
    "# Парсим даты\n",
    "df['Dates'] = df['Date'].apply(lambda x: parse_date(x, CURRENT_YEAR))"
   ],
   "metadata": {
    "collapsed": false,
    "pycharm": {
     "name": "#%%\n"
    }
   }
  },
  {
   "cell_type": "code",
   "execution_count": null,
   "outputs": [],
   "source": [
    "# Распаковываем даты, соединяем с исходным DF\n",
    "df_new = df.groupby(['Date', 'SubjectName', 'Time'])['Dates'].apply(lambda x: pd.DataFrame(x.values[0])).reset_index().drop('level_3', axis = 1)\n",
    "df_new.columns = ['Date', 'SubjectName', 'Time', 'DateStart','DateEnd', 'RepeatTime', 'RepeatType']\n",
    "df = pd.merge(df, df_new, on=['Date', 'SubjectName', 'Time'])"
   ],
   "metadata": {
    "collapsed": false,
    "pycharm": {
     "name": "#%%\n"
    }
   }
  },
  {
   "cell_type": "code",
   "execution_count": null,
   "outputs": [],
   "source": [
    "# Убираем все траектории (Ангийский и тд)\n",
    "# df = df[~df['SubjectName'].str.startswith('Траектория')]\n",
    "# df = df[df['SubjectName'].str.match('((^(?!Траектория).*)(^(?!Русский язык).*))|(Траектория 3 .*)')]"
   ],
   "metadata": {
    "collapsed": false,
    "pycharm": {
     "name": "#%%\n"
    }
   }
  },
  {
   "cell_type": "code",
   "execution_count": null,
   "outputs": [],
   "source": [
    "# Находим подгруппы\n",
    "df['SubGroup'] = df['SubjectName'].apply(lambda x: find_sub_group(x))"
   ],
   "metadata": {
    "collapsed": false,
    "pycharm": {
     "name": "#%%\n"
    }
   }
  },
  {
   "cell_type": "code",
   "execution_count": null,
   "outputs": [],
   "source": [
    "# Парсим время и удаляем не нужные столбцы\n",
    "df[['TimeStart', 'TimeEnd']] = pd.DataFrame(df['Time'].apply(parse_time).tolist(), index=df.index)\n",
    "df = df.drop(['Dates', 'Time'], axis=1)"
   ],
   "metadata": {
    "collapsed": false,
    "pycharm": {
     "name": "#%%\n"
    }
   }
  },
  {
   "cell_type": "code",
   "execution_count": null,
   "outputs": [],
   "source": [
    "# Сохранение в csv\n",
    "# df.to_csv('autumn.csv')"
   ],
   "metadata": {
    "collapsed": false,
    "pycharm": {
     "name": "#%%\n"
    }
   }
  },
  {
   "cell_type": "code",
   "execution_count": null,
   "outputs": [],
   "source": [
    "# Создаем календарь\n",
    "cal = Calendar()\n",
    "cal.add('prodid', '-//Karpovich//Karpovich Alex//EN')"
   ],
   "metadata": {
    "collapsed": false,
    "pycharm": {
     "name": "#%%\n"
    }
   }
  },
  {
   "cell_type": "code",
   "execution_count": null,
   "outputs": [],
   "source": [
    "# Добавляем туда события\n",
    "for idx, item in df.iterrows():\n",
    "    s = Subject.from_series(item)\n",
    "    e = s.to_event()\n",
    "    cal.add_component(e)"
   ],
   "metadata": {
    "collapsed": false,
    "pycharm": {
     "name": "#%%\n"
    }
   }
  },
  {
   "cell_type": "code",
   "execution_count": null,
   "outputs": [],
   "source": [
    "# Сохраняем календарь. Ура\n",
    "with open('autumn_2022.ics', 'wb') as f:\n",
    "    data = cal.to_ical()\n",
    "    f.write(data)"
   ],
   "metadata": {
    "collapsed": false,
    "pycharm": {
     "name": "#%%\n"
    }
   }
  }
 ],
 "metadata": {
  "kernelspec": {
   "display_name": "Python 3",
   "language": "python",
   "name": "python3"
  },
  "language_info": {
   "codemirror_mode": {
    "name": "ipython",
    "version": 3
   },
   "file_extension": ".py",
   "mimetype": "text/x-python",
   "name": "python",
   "nbconvert_exporter": "python",
   "pygments_lexer": "ipython3",
   "version": "3.8.8"
  }
 },
 "nbformat": 4,
 "nbformat_minor": 1
}